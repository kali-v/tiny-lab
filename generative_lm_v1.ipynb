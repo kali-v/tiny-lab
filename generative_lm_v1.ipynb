{
 "cells": [
  {
   "cell_type": "code",
   "execution_count": 1,
   "metadata": {},
   "outputs": [],
   "source": [
    "import os\n",
    "import numpy as np\n",
    "import torch\n",
    "from torch.utils.data import Dataset, DataLoader\n",
    "from torch.nn.functional import one_hot\n",
    "\n",
    "DEVICE = \"cuda\" if torch.cuda.is_available() else \"cpu\"\n",
    "\n",
    "class LexicapDataset(Dataset):\n",
    "    def __init__(self, path: str, lags=1):\n",
    "        chars = [chr(i) for i in range(65, 91)]  # A-Z\n",
    "        chars.extend([chr(i) for i in range(97, 123)])  # a-z\n",
    "        chars.extend([\" \", \",\", \".\"])\n",
    "\n",
    "        self.itos = {i: x for i, x in enumerate(chars)}\n",
    "        self.stoi = {x: i for i, x in enumerate(chars)}\n",
    "        self.nochs = len(chars) + 1  # +1 for undefined char\n",
    "\n",
    "        self.emb = np.array(self.get_texts(path))\n",
    "\n",
    "        self.lags = lags\n",
    "\n",
    "    def encode_char(self, c):\n",
    "        return self.stoi.get(c, self.nochs - 1)\n",
    "\n",
    "    def decode_char(self, oc):\n",
    "        return self.itos.get(oc, \"\")\n",
    "\n",
    "    def decode_sentence(self, line: str):\n",
    "        return \"\".join([self.decode_char(c.index(1)) for c in line])\n",
    "\n",
    "    def encode_sentence(self, line: str):\n",
    "        return [self.encode_char(c) for c in line]\n",
    "\n",
    "    def get_texts(self, path: str):\n",
    "        emb = []\n",
    "        for p in os.listdir(path):\n",
    "            if \"large\" in p:\n",
    "                lines = open(f\"{path}/{p}\").read().splitlines()\n",
    "                for i, line in enumerate(lines):\n",
    "                    if i % 3 == 0 and i > 0:\n",
    "                        emb.extend(self.encode_sentence(line.strip()))\n",
    "\n",
    "        return emb\n",
    "\n",
    "    def __len__(self):\n",
    "        return len(self.emb) - self.lags\n",
    "\n",
    "    def __getitem__(self, idx):\n",
    "        x = one_hot(torch.Tensor(self.emb[idx:idx + self.lags]).long(), num_classes=self.nochs)\n",
    "        y = one_hot(torch.Tensor([self.emb[idx + self.lags]]).long(), num_classes=self.nochs)\n",
    "\n",
    "        return x.to(DEVICE), y.to(DEVICE)\n"
   ]
  },
  {
   "cell_type": "code",
   "execution_count": 2,
   "metadata": {},
   "outputs": [
    {
     "name": "stdout",
     "output_type": "stream",
     "text": [
      "inputs\n",
      "['The following is a c']\n",
      "outputs\n",
      "['he following is a co']\n"
     ]
    }
   ],
   "source": [
    "lexicap = LexicapDataset(\"../data/vtt/train\")\n",
    "\n",
    "print(\"inputs\")\n",
    "print([lexicap.decode_sentence(lexicap[i][0].squeeze().tolist() for i in range(20))])\n",
    "print(\"outputs\")\n",
    "print([lexicap.decode_sentence(lexicap[i][1].squeeze().tolist() for i in range(20))])\n"
   ]
  },
  {
   "cell_type": "code",
   "execution_count": 3,
   "metadata": {},
   "outputs": [],
   "source": [
    "class LexicapDataLoader:\n",
    "    def __init__(self, dataset, bs, device):\n",
    "        self.dataset = dataset\n",
    "        self.chunk_size = int(len(dataset) / bs)\n",
    "\n",
    "        self.bsi = [int(i * self.chunk_size) for i in range(bs)]\n",
    "        self.istep = 0\n",
    "\n",
    "        self.device = device\n",
    "\n",
    "    def __len__(self):\n",
    "        return self.chunk_size\n",
    "\n",
    "    def __iter__(self):\n",
    "        for _ in range(self.chunk_size):\n",
    "            xs = []\n",
    "            ys = []\n",
    "\n",
    "            for i in self.bsi:\n",
    "                x, y = self.dataset[i + self.istep]\n",
    "                xs.append(x)\n",
    "                ys.append(y)\n",
    "\n",
    "            self.istep += 1\n",
    "            yield torch.stack(xs).to(self.device), torch.stack(ys).to(self.device)\n"
   ]
  },
  {
   "cell_type": "code",
   "execution_count": 4,
   "metadata": {},
   "outputs": [],
   "source": [
    "import torch\n",
    "from torch import nn\n",
    "\n",
    "class LSTMCell(nn.Module):\n",
    "    def __init__(self, input_size, out_size):\n",
    "        super().__init__()\n",
    "\n",
    "        self.out_size = out_size\n",
    "\n",
    "        self.f_layer = nn.Sequential(nn.Linear(input_size + out_size, out_size), nn.Sigmoid()).to(DEVICE)\n",
    "        self.i_layer = nn.Sequential(nn.Linear(input_size + out_size, out_size), nn.Sigmoid()).to(DEVICE)\n",
    "        self.c_layer = nn.Sequential(nn.Linear(input_size + out_size, out_size), nn.Tanh()).to(DEVICE)\n",
    "        self.o_layer = nn.Sequential(nn.Linear(input_size + out_size, out_size), nn.Sigmoid()).to(DEVICE)\n",
    "\n",
    "        self.iht = None\n",
    "        self.ict = None\n",
    "\n",
    "\n",
    "    def forward(self, x, ht=None, ct=None):\n",
    "        if ht is not None:\n",
    "            self.iht = ht\n",
    "        if ct is not None:\n",
    "            self.ict = ct\n",
    "        if self.iht is None:\n",
    "            self.iht = torch.zeros((x.shape[0], self.out_size)).to(DEVICE)\n",
    "            self.ict = torch.zeros((x.shape[0], self.out_size)).to(DEVICE)\n",
    "        \n",
    "        con_x = torch.cat([self.iht, x], dim=-1)\n",
    "\n",
    "        ft = self.f_layer(con_x)\n",
    "        it = self.i_layer(con_x)\n",
    "        cct = self.c_layer(con_x)\n",
    "\n",
    "        ct = ft * self.ict + it * cct\n",
    "        ht = self.o_layer(con_x) * torch.tanh(ct)\n",
    "\n",
    "        self.iht = torch.Tensor(ht.cpu().detach()).cuda()\n",
    "        self.ict = torch.Tensor(ct.cpu().detach()).cuda()\n",
    "\n",
    "        return ht, ct\n",
    "\n"
   ]
  },
  {
   "cell_type": "code",
   "execution_count": 5,
   "metadata": {},
   "outputs": [],
   "source": [
    "class RNN(nn.Module):\n",
    "    def __init__(self, input_size, hidden_size, out_size, num_blocks):\n",
    "        super().__init__()\n",
    "\n",
    "        self.num_blocks = num_blocks\n",
    "        self.blocks = nn.ModuleList([LSTMCell(input_size, hidden_size)])\n",
    "        self.blocks.extend([LSTMCell(hidden_size, hidden_size) for _ in range(self.num_blocks - 1)])\n",
    "        \n",
    "        self.out_layer = nn.Linear(hidden_size, out_size)\n",
    "\n",
    "    def reset_hidden_states(self, x):\n",
    "        for block in self.blocks:\n",
    "            block.iht = torch.zeros((x, block.out_size)).to(DEVICE)\n",
    "            block.ict = torch.zeros((x, block.out_size)).to(DEVICE)\n",
    "\n",
    "    def forward(self, x):\n",
    "        for block in self.blocks:\n",
    "            x, _ = block(x)\n",
    "\n",
    "        return self.out_layer(x)\n"
   ]
  },
  {
   "cell_type": "code",
   "execution_count": 6,
   "metadata": {},
   "outputs": [],
   "source": [
    "from torch.utils.data import DataLoader\n",
    "from torch import nn\n",
    "\n",
    "bs = 4096\n",
    "device = \"cuda\"\n",
    "\n",
    "lexicap = LexicapDataset(\"../data/vtt/train\")\n",
    "lexiloader = LexicapDataLoader(lexicap, bs, device)\n",
    "\n",
    "out_size = lexicap.nochs\n",
    "hidden_size = out_size * 10\n",
    "\n",
    "model = RNN(out_size, hidden_size, out_size, 2).to(device)"
   ]
  },
  {
   "cell_type": "code",
   "execution_count": 18,
   "metadata": {},
   "outputs": [
    {
     "name": "stdout",
     "output_type": "stream",
     "text": [
      "at was a produce and the same thing that its a bit of the same thing that its a bit of the same thing that its a bit of the same thing that its a bit of the same thing that its a bit of the same thing that its a bit of the same thing that its a bit of the same thing that its a bit of the sam"
     ]
    }
   ],
   "source": [
    "from copy import deepcopy\n",
    "import random\n",
    "\n",
    "def gen_text(model, gen_len=300):\n",
    "    model = deepcopy(model)\n",
    "    model.reset_hidden_states(1)\n",
    "    \n",
    "    inp = random.choice(lexicap)[0].to(device)\n",
    "\n",
    "    for i in range(gen_len):\n",
    "        ht = model(inp)\n",
    "        y = ht[0].argmax().cpu().item()\n",
    "        yhot = one_hot(torch.Tensor([y]).long(), num_classes=lexicap.nochs).to(device)\n",
    "\n",
    "        inp = inp[:, :-lexicap.nochs]\n",
    "        inp = torch.cat([inp, yhot], dim=1)\n",
    "\n",
    "        print(lexicap.decode_char(y), end=\"\")\n",
    "\n",
    "\n",
    "gen_text(model)\n"
   ]
  },
  {
   "cell_type": "code",
   "execution_count": null,
   "metadata": {},
   "outputs": [],
   "source": [
    "from torch import optim\n",
    "# import wandb\n",
    "\n",
    "# wandb.init(project=\"lexicap\")\n",
    "\n",
    "\n",
    "def train():\n",
    "    losses = []\n",
    "\n",
    "    loss_fn = nn.CrossEntropyLoss()\n",
    "    optimizer = optim.Adam(model.parameters())\n",
    "\n",
    "    epochs = 200\n",
    "    q = 0\n",
    "\n",
    "    for j in range(epochs):\n",
    "        tloss = 0\n",
    "        print(f\"epoch [{j}]\")\n",
    "\n",
    "        for i, [x, y] in enumerate(lexiloader):\n",
    "            optimizer.zero_grad()\n",
    "            loss = 0\n",
    "\n",
    "            x = x.flatten(start_dim=1).float()\n",
    "            y = y.squeeze().float()\n",
    "\n",
    "            pred = model(x)\n",
    "\n",
    "            loss = loss_fn(pred, y)\n",
    "            loss.backward()\n",
    "            optimizer.step()\n",
    "\n",
    "            tloss += loss.item()\n",
    "            q += 1\n",
    "\n",
    "            if q > 100000/bs:\n",
    "                # wandb.log({\"train_loss\": tloss})\n",
    "                print(tloss)\n",
    "\n",
    "                # print(gen_text(model))\n",
    "\n",
    "                losses.append(tloss)\n",
    "                tloss = 0\n",
    "                q = 0\n",
    "\n",
    "    return losses\n",
    "\n",
    "\n",
    "losses = train()\n"
   ]
  },
  {
   "cell_type": "code",
   "execution_count": 13,
   "metadata": {},
   "outputs": [
    {
     "name": "stdout",
     "output_type": "stream",
     "text": [
      "heres a lot of the statement of the same thing that its a bit of the same thing that its a bit of the same thing that its a bit of the same thing that its a bit of the same thing that its a bit of the same thing that its a bit of the same thing that its a bit of the same thing that its a bi"
     ]
    }
   ],
   "source": [
    "gen_text(model)"
   ]
  }
 ],
 "metadata": {
  "kernelspec": {
   "display_name": "Python 3",
   "language": "python",
   "name": "python3"
  },
  "language_info": {
   "codemirror_mode": {
    "name": "ipython",
    "version": 3
   },
   "file_extension": ".py",
   "mimetype": "text/x-python",
   "name": "python",
   "nbconvert_exporter": "python",
   "pygments_lexer": "ipython3",
   "version": "3.8.13"
  },
  "orig_nbformat": 4,
  "vscode": {
   "interpreter": {
    "hash": "4525bb9afa5b11e91ff8883ff1427ebcb57df9afe31e89541862e2caa0e84c72"
   }
  }
 },
 "nbformat": 4,
 "nbformat_minor": 2
}
